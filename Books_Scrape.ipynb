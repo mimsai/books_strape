{
 "cells": [
  {
   "cell_type": "markdown",
   "id": "1634476a",
   "metadata": {},
   "source": [
    "6.0.1 1. Coletar os seguintes dados da página: https://books.toscrape.com\n",
    "\n",
    "\n",
    "• Catálogo:\n",
    "– Classics\n",
    "– Science Fiction\n",
    "– Humor\n",
    "– Business\n",
    "\n",
    "\n",
    "• Coletar os seguintes dados de cada livro:\n",
    "– Nome do livro\n",
    "– Preço em libras\n",
    "– Avaliação dos consumidores\n",
    "– Disponível em estoque\n",
    "\n",
    "\n",
    "6.0.2 Entregável:\n",
    "- Faça um plano escrito para cada uma das perguntas de negócio, contendo:\n",
    "- Saída: A simulação da tabela e gráfico final.\n",
    "- Processo: A sequência de passos organizada pela lógica de execução\n",
    "- Entrada: O link para as fontes de dados.\n",
    "- Uma csv com todas as informação de todos os catálogos."
   ]
  },
  {
   "cell_type": "markdown",
   "id": "3fd3ad85",
   "metadata": {},
   "source": [
    "#  <center> Extraçao de Dados"
   ]
  },
  {
   "cell_type": "code",
   "execution_count": 1,
   "id": "38379d08",
   "metadata": {},
   "outputs": [],
   "source": [
    "import math\n",
    "import requests\n",
    "\n",
    "import pandas    as pd\n",
    "import numpy     as np\n",
    "\n",
    "from datetime   import  datetime\n",
    "from bs4        import  BeautifulSoup\n",
    "\n",
    "pd.set_option('display.max_rows', None)"
   ]
  },
  {
   "cell_type": "code",
   "execution_count": 2,
   "id": "47b57f8b",
   "metadata": {},
   "outputs": [],
   "source": [
    "url = 'https://books.toscrape.com/catalogue/category/books/classics_6/index.html'\n",
    "\n",
    "headers = {'User-Agent': 'Mozilla/5.0'}\n",
    "\n",
    "page = requests.get (url, headers = headers)\n",
    "\n",
    "soup = BeautifulSoup(page.text, 'html.parser')"
   ]
  },
  {
   "cell_type": "code",
   "execution_count": 22,
   "id": "1a25cb29",
   "metadata": {},
   "outputs": [],
   "source": [
    "products = soup.find_all('article', class_ = 'product_pod')"
   ]
  },
  {
   "cell_type": "code",
   "execution_count": 24,
   "id": "aaa35060",
   "metadata": {},
   "outputs": [
    {
     "ename": "AttributeError",
     "evalue": "ResultSet object has no attribute 'h1'. You're probably treating a list of elements like a single element. Did you call find_all() when you meant to call find()?",
     "output_type": "error",
     "traceback": [
      "\u001b[1;31m---------------------------------------------------------------------------\u001b[0m",
      "\u001b[1;31mAttributeError\u001b[0m                            Traceback (most recent call last)",
      "\u001b[1;32m~\\AppData\\Local\\Temp/ipykernel_5336/1743172827.py\u001b[0m in \u001b[0;36m<module>\u001b[1;34m\u001b[0m\n\u001b[1;32m----> 1\u001b[1;33m \u001b[0mproducts\u001b[0m\u001b[1;33m.\u001b[0m\u001b[0mh1\u001b[0m\u001b[1;33m.\u001b[0m\u001b[0mtext\u001b[0m\u001b[1;33m\u001b[0m\u001b[1;33m\u001b[0m\u001b[0m\n\u001b[0m",
      "\u001b[1;32m~\\.conda\\envs\\Projeto01\\lib\\site-packages\\bs4\\element.py\u001b[0m in \u001b[0;36m__getattr__\u001b[1;34m(self, key)\u001b[0m\n\u001b[0;32m   2251\u001b[0m     \u001b[1;32mdef\u001b[0m \u001b[0m__getattr__\u001b[0m\u001b[1;33m(\u001b[0m\u001b[0mself\u001b[0m\u001b[1;33m,\u001b[0m \u001b[0mkey\u001b[0m\u001b[1;33m)\u001b[0m\u001b[1;33m:\u001b[0m\u001b[1;33m\u001b[0m\u001b[1;33m\u001b[0m\u001b[0m\n\u001b[0;32m   2252\u001b[0m         \u001b[1;34m\"\"\"Raise a helpful exception to explain a common code fix.\"\"\"\u001b[0m\u001b[1;33m\u001b[0m\u001b[1;33m\u001b[0m\u001b[0m\n\u001b[1;32m-> 2253\u001b[1;33m         raise AttributeError(\n\u001b[0m\u001b[0;32m   2254\u001b[0m             \u001b[1;34m\"ResultSet object has no attribute '%s'. You're probably treating a list of elements like a single element. Did you call find_all() when you meant to call find()?\"\u001b[0m \u001b[1;33m%\u001b[0m \u001b[0mkey\u001b[0m\u001b[1;33m\u001b[0m\u001b[1;33m\u001b[0m\u001b[0m\n\u001b[0;32m   2255\u001b[0m         )\n",
      "\u001b[1;31mAttributeError\u001b[0m: ResultSet object has no attribute 'h1'. You're probably treating a list of elements like a single element. Did you call find_all() when you meant to call find()?"
     ]
    }
   ],
   "source": []
  },
  {
   "cell_type": "code",
   "execution_count": 5,
   "id": "1dd4e6da",
   "metadata": {},
   "outputs": [
    {
     "data": {
      "text/plain": [
       "'The Secret Garden'"
      ]
     },
     "execution_count": 5,
     "metadata": {},
     "output_type": "execute_result"
    }
   ],
   "source": [
    "product_list_name = products.find_all ('a')\n",
    "product_name = [p.get_text() for p in product_list]\n",
    "product_name = [list(filter(None, p.get_text().split('\\n'))) for p in product_list_name]"
   ]
  }
 ],
 "metadata": {
  "kernelspec": {
   "display_name": "Python 3 (ipykernel)",
   "language": "python",
   "name": "python3"
  },
  "language_info": {
   "codemirror_mode": {
    "name": "ipython",
    "version": 3
   },
   "file_extension": ".py",
   "mimetype": "text/x-python",
   "name": "python",
   "nbconvert_exporter": "python",
   "pygments_lexer": "ipython3",
   "version": "3.9.7"
  }
 },
 "nbformat": 4,
 "nbformat_minor": 5
}
